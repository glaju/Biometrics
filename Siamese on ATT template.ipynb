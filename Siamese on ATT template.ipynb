{
 "cells": [
  {
   "cell_type": "markdown",
   "metadata": {},
   "source": [
    "# Face Recognition Using Siamese Network"
   ]
  },
  {
   "cell_type": "markdown",
   "metadata": {},
   "source": [
    "Note: this notebook is adapted from (from [Packt tutorial](https://hub.packtpub.com/face-recognition-using-siamese-networks-tutorial/), which seems to be a re-implementation from  [this Packt book on Neural Network Projects with Python](https://subscription.packtpub.com/book/big_data_and_business_intelligence/9781789138900)). See also [this Hackernoon tutorial](https://hackernoon.com/one-shot-learning-with-siamese-networks-in-pytorch-8ddaab10340e).\n",
    "\n",
    "We can better understand siamese networks by building such a system for  face recognition. \n",
    "The objective of this network is to measure how two faces are similar or dissimilar. \n"
   ]
  },
  {
   "cell_type": "markdown",
   "metadata": {},
   "source": [
    "## import required packages"
   ]
  },
  {
   "cell_type": "code",
   "execution_count": 78,
   "metadata": {},
   "outputs": [],
   "source": [
    "import numpy as np\n",
    "import numpy.random as rng\n",
    "\n",
    "from pathlib import Path\n",
    "\n",
    "import os\n",
    "import matplotlib.pyplot as plt\n",
    "%matplotlib inline\n",
    "\n",
    "# to be used with the plaidml backend \n",
    "os.environ[\"KERAS_BACKEND\"] = \"plaidml.keras.backend\"\n",
    "import plaidml.keras\n",
    "plaidml.keras.install_backend()\n",
    "\n",
    "from keras.models import Sequential\n",
    "from keras.optimizers import Adam\n",
    "from keras.optimizers import RMSprop\n",
    "\n",
    "from keras.layers import Dropout, Conv2D, Convolution2D, ZeroPadding2D, Activation, Input, concatenate\n",
    "from keras.models import Model\n",
    "\n",
    "from keras.layers.normalization import BatchNormalization\n",
    "from keras.layers.pooling import MaxPooling2D\n",
    "from keras.layers.merge import Concatenate\n",
    "from keras.layers.core import Lambda, Flatten, Dense\n",
    "from keras.initializers import glorot_uniform\n",
    "\n",
    "from keras.engine.topology import Layer\n",
    "from keras.regularizers import l2\n",
    "from keras import backend as K\n",
    "\n",
    "from sklearn.model_selection import train_test_split\n",
    "from sklearn.preprocessing import LabelEncoder\n",
    "\n",
    "# local routine for loading images\n",
    "from localmodules.datasets import load_faces, get_dimensions, get_siamese_paired_data\n",
    "# local routine for constructing siamese network\n",
    "from localmodules.models import create_siamese_model, contrastive_loss, accuracy\n"
   ]
  },
  {
   "cell_type": "markdown",
   "metadata": {},
   "source": [
    "#### Import face image data sets (Olivetti (AT&T), Labeled Faces in the Wild, Caltech)\n",
    "\n",
    "This is similar to the EigenFaces assignment import module\n",
    "\n",
    "The data are returned as a list object with the following components:\n",
    "* data: (NxM) matrix of N flattened (linear dimension M) images\n",
    "* images: (Nx(nxm)) matrix of N images of dimension nxm \n",
    "* target: N-dimensional vector of labels "
   ]
  },
  {
   "cell_type": "code",
   "execution_count": 79,
   "metadata": {},
   "outputs": [],
   "source": [
    "# path to dataset for Caltech data\n",
    "caltechDataset = Path(\"./CalTechFacesDirs\")\n",
    "# type of database (ATT/LFW/CALTECH)\n",
    "facesDB = \"ATT\"\n",
    "# max number of persons to extract from database\n",
    "max_persons = None"
   ]
  },
  {
   "cell_type": "code",
   "execution_count": 80,
   "metadata": {},
   "outputs": [],
   "source": [
    "# Download the data, if not already on disk and load it as numpy arrays\n",
    "\n",
    "faces_att = load_faces(\"ATT\", dataset = None, min_faces=10, max_targets=max_persons)\n",
    "\n",
    "faces_lfw = load_faces(\"LFW\", dataset = None, min_faces=10, max_targets=max_persons)\n",
    "\n",
    "faces_cal = load_faces(\"CALTECH\", dataset = caltechDataset, min_faces=10, max_targets=max_persons)\n",
    "    # convert string label to unique numeric id\n",
    "  \n",
    "\n"
   ]
  },
  {
   "cell_type": "markdown",
   "metadata": {},
   "source": [
    "## Print statistics of data set"
   ]
  },
  {
   "cell_type": "code",
   "execution_count": 83,
   "metadata": {},
   "outputs": [
    {
     "name": "stdout",
     "output_type": "stream",
     "text": [
      "Total dataset size:\n",
      "n_samples: 400\n",
      "n_examples: 10\n",
      "n_features: 4096\n",
      "n_classes: 40\n",
      "width: 64\n",
      "height: 64\n",
      "channels: 1\n",
      "{'data': array([[0.30991736, 0.3677686 , 0.41735536, ..., 0.15289256, 0.16115703,\n",
      "        0.1570248 ],\n",
      "       [0.45454547, 0.47107437, 0.5123967 , ..., 0.15289256, 0.15289256,\n",
      "        0.15289256],\n",
      "       [0.3181818 , 0.40082645, 0.49173555, ..., 0.14049587, 0.14876033,\n",
      "        0.15289256],\n",
      "       ...,\n",
      "       [0.5       , 0.53305787, 0.607438  , ..., 0.17768595, 0.14876033,\n",
      "        0.19008264],\n",
      "       [0.21487603, 0.21900827, 0.21900827, ..., 0.57438016, 0.59090906,\n",
      "        0.60330576],\n",
      "       [0.5165289 , 0.46280992, 0.28099173, ..., 0.35950413, 0.3553719 ,\n",
      "        0.38429752]], dtype=float32), 'images': array([[[0.30991736, 0.3677686 , 0.41735536, ..., 0.37190083,\n",
      "         0.3305785 , 0.30578512],\n",
      "        [0.3429752 , 0.40495867, 0.43801653, ..., 0.37190083,\n",
      "         0.338843  , 0.3140496 ],\n",
      "        [0.3429752 , 0.41735536, 0.45041323, ..., 0.38016528,\n",
      "         0.338843  , 0.29752067],\n",
      "        ...,\n",
      "        [0.21487603, 0.20661157, 0.2231405 , ..., 0.15289256,\n",
      "         0.16528925, 0.17355372],\n",
      "        [0.20247933, 0.2107438 , 0.2107438 , ..., 0.14876033,\n",
      "         0.16115703, 0.16528925],\n",
      "        [0.20247933, 0.20661157, 0.20247933, ..., 0.15289256,\n",
      "         0.16115703, 0.1570248 ]],\n",
      "\n",
      "       [[0.45454547, 0.47107437, 0.5123967 , ..., 0.19008264,\n",
      "         0.18595041, 0.18595041],\n",
      "        [0.446281  , 0.48347107, 0.5206612 , ..., 0.21487603,\n",
      "         0.2107438 , 0.2107438 ],\n",
      "        [0.49586776, 0.5165289 , 0.53305787, ..., 0.20247933,\n",
      "         0.20661157, 0.20661157],\n",
      "        ...,\n",
      "        [0.77272725, 0.78099173, 0.7933884 , ..., 0.1446281 ,\n",
      "         0.1446281 , 0.1446281 ],\n",
      "        [0.77272725, 0.7768595 , 0.7892562 , ..., 0.13636364,\n",
      "         0.13636364, 0.13636364],\n",
      "        [0.7644628 , 0.7892562 , 0.78099173, ..., 0.15289256,\n",
      "         0.15289256, 0.15289256]],\n",
      "\n",
      "       [[0.3181818 , 0.40082645, 0.49173555, ..., 0.40082645,\n",
      "         0.3553719 , 0.30991736],\n",
      "        [0.30991736, 0.3966942 , 0.47933885, ..., 0.40495867,\n",
      "         0.37603307, 0.30165288],\n",
      "        [0.26859504, 0.34710744, 0.45454547, ..., 0.3966942 ,\n",
      "         0.37190083, 0.30991736],\n",
      "        ...,\n",
      "        [0.1322314 , 0.09917355, 0.08264463, ..., 0.13636364,\n",
      "         0.14876033, 0.15289256],\n",
      "        [0.11570248, 0.09504132, 0.0785124 , ..., 0.1446281 ,\n",
      "         0.1446281 , 0.1570248 ],\n",
      "        [0.11157025, 0.09090909, 0.0785124 , ..., 0.14049587,\n",
      "         0.14876033, 0.15289256]],\n",
      "\n",
      "       ...,\n",
      "\n",
      "       [[0.5       , 0.53305787, 0.607438  , ..., 0.28512397,\n",
      "         0.23966943, 0.21487603],\n",
      "        [0.49173555, 0.5413223 , 0.60330576, ..., 0.29752067,\n",
      "         0.20247933, 0.20661157],\n",
      "        [0.46694216, 0.55785125, 0.6198347 , ..., 0.29752067,\n",
      "         0.17768595, 0.18595041],\n",
      "        ...,\n",
      "        [0.03305785, 0.46280992, 0.5289256 , ..., 0.17355372,\n",
      "         0.17355372, 0.1694215 ],\n",
      "        [0.1570248 , 0.5247934 , 0.53305787, ..., 0.16528925,\n",
      "         0.1570248 , 0.18595041],\n",
      "        [0.45454547, 0.5206612 , 0.53305787, ..., 0.17768595,\n",
      "         0.14876033, 0.19008264]],\n",
      "\n",
      "       [[0.21487603, 0.21900827, 0.21900827, ..., 0.71487606,\n",
      "         0.71487606, 0.6942149 ],\n",
      "        [0.20247933, 0.20661157, 0.20661157, ..., 0.7107438 ,\n",
      "         0.7066116 , 0.6942149 ],\n",
      "        [0.2107438 , 0.20661157, 0.20661157, ..., 0.6859504 ,\n",
      "         0.69008267, 0.6942149 ],\n",
      "        ...,\n",
      "        [0.2644628 , 0.25619835, 0.2603306 , ..., 0.5413223 ,\n",
      "         0.57438016, 0.59090906],\n",
      "        [0.26859504, 0.2644628 , 0.26859504, ..., 0.56198347,\n",
      "         0.58264464, 0.59504133],\n",
      "        [0.27272728, 0.26859504, 0.27272728, ..., 0.57438016,\n",
      "         0.59090906, 0.60330576]],\n",
      "\n",
      "       [[0.5165289 , 0.46280992, 0.28099173, ..., 0.5785124 ,\n",
      "         0.5413223 , 0.60330576],\n",
      "        [0.5165289 , 0.45041323, 0.29338843, ..., 0.58264464,\n",
      "         0.553719  , 0.5785124 ],\n",
      "        [0.5165289 , 0.44214877, 0.29338843, ..., 0.59917355,\n",
      "         0.5785124 , 0.54545456],\n",
      "        ...,\n",
      "        [0.39256197, 0.41322315, 0.38842976, ..., 0.33471075,\n",
      "         0.37190083, 0.3966942 ],\n",
      "        [0.39256197, 0.38429752, 0.40495867, ..., 0.3305785 ,\n",
      "         0.35950413, 0.37603307],\n",
      "        [0.3677686 , 0.40495867, 0.3966942 , ..., 0.35950413,\n",
      "         0.3553719 , 0.38429752]]], dtype=float32), 'target': array([ 0,  0,  0,  0,  0,  0,  0,  0,  0,  0,  1,  1,  1,  1,  1,  1,  1,\n",
      "        1,  1,  1,  2,  2,  2,  2,  2,  2,  2,  2,  2,  2,  3,  3,  3,  3,\n",
      "        3,  3,  3,  3,  3,  3,  4,  4,  4,  4,  4,  4,  4,  4,  4,  4,  5,\n",
      "        5,  5,  5,  5,  5,  5,  5,  5,  5,  6,  6,  6,  6,  6,  6,  6,  6,\n",
      "        6,  6,  7,  7,  7,  7,  7,  7,  7,  7,  7,  7,  8,  8,  8,  8,  8,\n",
      "        8,  8,  8,  8,  8,  9,  9,  9,  9,  9,  9,  9,  9,  9,  9, 10, 10,\n",
      "       10, 10, 10, 10, 10, 10, 10, 10, 11, 11, 11, 11, 11, 11, 11, 11, 11,\n",
      "       11, 12, 12, 12, 12, 12, 12, 12, 12, 12, 12, 13, 13, 13, 13, 13, 13,\n",
      "       13, 13, 13, 13, 14, 14, 14, 14, 14, 14, 14, 14, 14, 14, 15, 15, 15,\n",
      "       15, 15, 15, 15, 15, 15, 15, 16, 16, 16, 16, 16, 16, 16, 16, 16, 16,\n",
      "       17, 17, 17, 17, 17, 17, 17, 17, 17, 17, 18, 18, 18, 18, 18, 18, 18,\n",
      "       18, 18, 18, 19, 19, 19, 19, 19, 19, 19, 19, 19, 19, 20, 20, 20, 20,\n",
      "       20, 20, 20, 20, 20, 20, 21, 21, 21, 21, 21, 21, 21, 21, 21, 21, 22,\n",
      "       22, 22, 22, 22, 22, 22, 22, 22, 22, 23, 23, 23, 23, 23, 23, 23, 23,\n",
      "       23, 23, 24, 24, 24, 24, 24, 24, 24, 24, 24, 24, 25, 25, 25, 25, 25,\n",
      "       25, 25, 25, 25, 25, 26, 26, 26, 26, 26, 26, 26, 26, 26, 26, 27, 27,\n",
      "       27, 27, 27, 27, 27, 27, 27, 27, 28, 28, 28, 28, 28, 28, 28, 28, 28,\n",
      "       28, 29, 29, 29, 29, 29, 29, 29, 29, 29, 29, 30, 30, 30, 30, 30, 30,\n",
      "       30, 30, 30, 30, 31, 31, 31, 31, 31, 31, 31, 31, 31, 31, 32, 32, 32,\n",
      "       32, 32, 32, 32, 32, 32, 32, 33, 33, 33, 33, 33, 33, 33, 33, 33, 33,\n",
      "       34, 34, 34, 34, 34, 34, 34, 34, 34, 34, 35, 35, 35, 35, 35, 35, 35,\n",
      "       35, 35, 35, 36, 36, 36, 36, 36, 36, 36, 36, 36, 36, 37, 37, 37, 37,\n",
      "       37, 37, 37, 37, 37, 37, 38, 38, 38, 38, 38, 38, 38, 38, 38, 38, 39,\n",
      "       39, 39, 39, 39, 39, 39, 39, 39, 39]), 'DESCR': '.. _olivetti_faces_dataset:\\n\\nThe Olivetti faces dataset\\n--------------------------\\n\\n`This dataset contains a set of face images`_ taken between April 1992 and \\nApril 1994 at AT&T Laboratories Cambridge. The\\n:func:`sklearn.datasets.fetch_olivetti_faces` function is the data\\nfetching / caching function that downloads the data\\narchive from AT&T.\\n\\n.. _This dataset contains a set of face images: http://www.cl.cam.ac.uk/research/dtg/attarchive/facedatabase.html\\n\\nAs described on the original website:\\n\\n    There are ten different images of each of 40 distinct subjects. For some\\n    subjects, the images were taken at different times, varying the lighting,\\n    facial expressions (open / closed eyes, smiling / not smiling) and facial\\n    details (glasses / no glasses). All the images were taken against a dark\\n    homogeneous background with the subjects in an upright, frontal position \\n    (with tolerance for some side movement).\\n\\n**Data Set Characteristics:**\\n\\n    =================   =====================\\n    Classes                                40\\n    Samples total                         400\\n    Dimensionality                       4096\\n    Features            real, between 0 and 1\\n    =================   =====================\\n\\nThe image is quantized to 256 grey levels and stored as unsigned 8-bit \\nintegers; the loader will convert these to floating point values on the \\ninterval [0, 1], which are easier to work with for many algorithms.\\n\\nThe \"target\" for this database is an integer from 0 to 39 indicating the\\nidentity of the person pictured; however, with only 10 examples per class, this\\nrelatively small dataset is more interesting from an unsupervised or\\nsemi-supervised perspective.\\n\\nThe original dataset consisted of 92 x 112, while the version available here\\nconsists of 64x64 images.\\n\\nWhen using these images, please give credit to AT&T Laboratories Cambridge.\\n'}\n"
     ]
    }
   ],
   "source": [
    "n_samples, n_examples, n_classes, n_features, height, width, channels = get_dimensions(faces_att)\n",
    "print(\"Total dataset size:\")\n",
    "print(\"n_samples: %d\" % n_samples)\n",
    "print(\"n_examples: %d\" % n_examples)\n",
    "print(\"n_features: %d\" % n_features)\n",
    "print(\"n_classes: %d\" % n_classes)\n",
    "print(\"width: %d\" % width)\n",
    "print(\"height: %d\" % height)\n",
    "print(\"channels: %d\" % channels)\n",
    "\n",
    "print(faces_att)"
   ]
  },
  {
   "cell_type": "markdown",
   "metadata": {},
   "source": [
    "## Construct siamese set from initial set.\n",
    "\n",
    "The siamese set contains pairs of images that are labeled as either imposter (label 1) or genuine (label 0).\n",
    "\n",
    "*N_siamese* is the number of such pairs you generate.\n",
    "\n",
    "See the localmodules.dataset file for details how they are generated"
   ]
  },
  {
   "cell_type": "code",
   "execution_count": 84,
   "metadata": {},
   "outputs": [],
   "source": [
    "N_siamese = 10000 # max n_samples**2\n",
    "X_att, y_att = get_siamese_paired_data(faces_att, N_siamese)\n",
    "X_lfw, y_lfw = get_siamese_paired_data(faces_lfw, N_siamese)\n",
    "# X_cal, y_cal = get_siamese_paired_data(faces_cal, N_siamese)\n"
   ]
  },
  {
   "cell_type": "code",
   "execution_count": 85,
   "metadata": {},
   "outputs": [
    {
     "data": {
      "text/plain": [
       "(20000, 2, 64, 64, 1)"
      ]
     },
     "execution_count": 85,
     "metadata": {},
     "output_type": "execute_result"
    }
   ],
   "source": [
    "X_att.shape"
   ]
  },
  {
   "cell_type": "markdown",
   "metadata": {},
   "source": [
    "## Split in training and test set"
   ]
  },
  {
   "cell_type": "code",
   "execution_count": 86,
   "metadata": {},
   "outputs": [],
   "source": [
    "x_train, x_test, y_train, y_test = train_test_split(X_att, y_att, test_size=.25, shuffle = False)"
   ]
  },
  {
   "cell_type": "markdown",
   "metadata": {},
   "source": [
    "Verify by random sampling if genuine and imposter pairs are correctly constructed"
   ]
  },
  {
   "cell_type": "code",
   "execution_count": 8,
   "metadata": {},
   "outputs": [
    {
     "data": {
      "image/png": "[encoded data removed]",
      "text/plain": [
       "<Figure size 432x288 with 1 Axes>"
      ]
     },
     "metadata": {
      "needs_background": "light"
     },
     "output_type": "display_data"
    }
   ],
   "source": [
    "subj_nr = 14000\n",
    "\n",
    "plt.imshow(np.squeeze(x_train[subj_nr,0]),cmap='gray');  "
   ]
  },
  {
   "cell_type": "code",
   "execution_count": 9,
   "metadata": {},
   "outputs": [
    {
     "name": "stdout",
     "output_type": "stream",
     "text": [
      "1.0\n"
     ]
    },
    {
     "data": {
      "image/png": "[encoded data removed]",
      "text/plain": [
       "<Figure size 432x288 with 1 Axes>"
      ]
     },
     "metadata": {
      "needs_background": "light"
     },
     "output_type": "display_data"
    }
   ],
   "source": [
    "plt.imshow(np.squeeze(x_train[subj_nr,1]),cmap='gray'); \n",
    "y_train[subj_nr]\n",
    "print(y_train[subj_nr])"
   ]
  },
  {
   "cell_type": "markdown",
   "metadata": {},
   "source": [
    "## Simple CNN Model\n",
    "\n",
    "The localmodules.models file contains the description of a shallow CNN model that is trained with [contrastive loss](https://www.cs.cmu.edu/~rsalakhu/papers/oneshot1.pdf).\n",
    "This subnetwork is copied twice and the output of both siamese copies are then passed onto a vector euclidean distance (ED) calculation layer. The network gets as input pairs of imposter or genuine images with the associated label (genuine = 0, imposter = 1).\n",
    "\n",
    "The network itself outputs the ED betweeen pairs of embedded representations (right before the distance calculation). Use this distance measure for verification and identification tests.\n",
    "\n",
    "Note: you can change the CNN at your will, but beware that it might take additional training time."
   ]
  },
  {
   "cell_type": "code",
   "execution_count": 10,
   "metadata": {},
   "outputs": [
    {
     "name": "stderr",
     "output_type": "stream",
     "text": [
      "INFO:plaidml:Opening device \"opencl_nvidia_geforce_gtx_1050.0\"\n"
     ]
    },
    {
     "name": "stdout",
     "output_type": "stream",
     "text": [
      "__________________________________________________________________________________________________\n",
      "Layer (type)                    Output Shape         Param #     Connected to                     \n",
      "==================================================================================================\n",
      "input_1 (InputLayer)            (None, 64, 64, 1)    0                                            \n",
      "__________________________________________________________________________________________________\n",
      "input_2 (InputLayer)            (None, 64, 64, 1)    0                                            \n",
      "__________________________________________________________________________________________________\n",
      "sequential_1 (Sequential)       (None, 128)          1680832     input_1[0][0]                    \n",
      "                                                                 input_2[0][0]                    \n",
      "__________________________________________________________________________________________________\n",
      "lambda_1 (Lambda)               (None, 1)            0           sequential_1[1][0]               \n",
      "                                                                 sequential_1[2][0]               \n",
      "==================================================================================================\n",
      "Total params: 1,680,832\n",
      "Trainable params: 1,680,832\n",
      "Non-trainable params: 0\n",
      "__________________________________________________________________________________________________\n"
     ]
    }
   ],
   "source": [
    "model = create_siamese_model(x_train.shape[2:])\n",
    "model.summary()"
   ]
  },
  {
   "cell_type": "markdown",
   "metadata": {},
   "source": [
    "Print the network graph"
   ]
  },
  {
   "cell_type": "code",
   "execution_count": 11,
   "metadata": {},
   "outputs": [
    {
     "data": {
      "image/png": "[encoded data removed]",
      "text/plain": [
       "<IPython.core.display.Image object>"
      ]
     },
     "execution_count": 11,
     "metadata": {
      "image/png": {
       "height": 147,
       "width": 409
      }
     },
     "output_type": "execute_result"
    }
   ],
   "source": [
    "os.environ[\"PATH\"] += os.pathsep + 'C:/Program Files (x86)/Graphviz2.38/bin/'\n",
    "from keras.utils import plot_model\n",
    "plot_model(model, to_file='model.png', \n",
    "           show_shapes = True, show_layer_names = True)\n",
    "\n",
    "from IPython.display import Image\n",
    "Image(retina=True, filename='model.png')"
   ]
  },
  {
   "cell_type": "markdown",
   "metadata": {},
   "source": [
    "The network will be trained with contrastive loss as objective function and Adam optimizer. It outputs an additional accuracay measure (which uses an arbitrarily set threshold = 0.5). The threshold can be determined later on through e.g. max F1-score"
   ]
  },
  {
   "cell_type": "code",
   "execution_count": 12,
   "metadata": {},
   "outputs": [],
   "source": [
    "from keras.optimizers import RMSprop\n",
    "\n",
    "rms = Adam()\n",
    "model.compile(loss=contrastive_loss, optimizer=rms, metrics = [accuracy])"
   ]
  },
  {
   "cell_type": "markdown",
   "metadata": {},
   "source": [
    "### Fit/train the model. \n",
    "\n",
    "Depending on the complexity of the Siamese network this might take a while. You can also change the number of epochs to improve the training (with the risk of overfitting). You will notice that a small number (<10) of epochs already gets you a decent performance\n"
   ]
  },
  {
   "cell_type": "code",
   "execution_count": 13,
   "metadata": {},
   "outputs": [
    {
     "name": "stdout",
     "output_type": "stream",
     "text": [
      "Train on 11250 samples, validate on 3750 samples\n",
      "Epoch 1/8\n"
     ]
    },
    {
     "name": "stderr",
     "output_type": "stream",
     "text": [
      "INFO:plaidml:Analyzing Ops: 118 of 253 operations complete\n",
      "INFO:plaidml:Analyzing Ops: 116 of 253 operations complete\n"
     ]
    },
    {
     "name": "stdout",
     "output_type": "stream",
     "text": [
      " - 27s - loss: 0.0328 - accuracy: 0.9205 - val_loss: 0.1138 - val_accuracy: 0.6008\n",
      "Epoch 2/8\n",
      " - 21s - loss: 0.0201 - accuracy: 0.9644 - val_loss: 0.0887 - val_accuracy: 0.7053\n",
      "Epoch 3/8\n",
      " - 21s - loss: 0.0155 - accuracy: 0.9766 - val_loss: 0.0500 - val_accuracy: 0.8632\n",
      "Epoch 4/8\n",
      " - 21s - loss: 0.0120 - accuracy: 0.9845 - val_loss: 0.0467 - val_accuracy: 0.8693\n",
      "Epoch 5/8\n",
      " - 21s - loss: 0.0088 - accuracy: 0.9903 - val_loss: 0.0235 - val_accuracy: 0.9544\n",
      "Epoch 6/8\n",
      " - 21s - loss: 0.0068 - accuracy: 0.9942 - val_loss: 0.0234 - val_accuracy: 0.9536\n",
      "Epoch 7/8\n",
      " - 21s - loss: 0.0055 - accuracy: 0.9957 - val_loss: 0.0163 - val_accuracy: 0.9717\n",
      "Epoch 8/8\n",
      " - 21s - loss: 0.0044 - accuracy: 0.9968 - val_loss: 0.0119 - val_accuracy: 0.9781\n"
     ]
    },
    {
     "data": {
      "text/plain": [
       "<keras.callbacks.History at 0x1b6a71d3828>"
      ]
     },
     "execution_count": 13,
     "metadata": {},
     "output_type": "execute_result"
    }
   ],
   "source": [
    "epochs = 8\n",
    "model.fit([x_train[:, 0], x_train[:, 1]], y_train, \n",
    "          validation_split=.25,\n",
    "          batch_size=64, verbose=2, epochs=epochs)"
   ]
  },
  {
   "cell_type": "markdown",
   "metadata": {},
   "source": [
    "### For further testing it might be worthwhile saving a time-consuming trained network"
   ]
  },
  {
   "cell_type": "code",
   "execution_count": 14,
   "metadata": {},
   "outputs": [],
   "source": [
    "model.save(\"siamese_nn.h5\")"
   ]
  },
  {
   "cell_type": "markdown",
   "metadata": {},
   "source": [
    "### Apply the network to the test data"
   ]
  },
  {
   "cell_type": "code",
   "execution_count": 15,
   "metadata": {},
   "outputs": [],
   "source": [
    "pred = model.predict([x_test[:, 0], x_test[:, 1]])"
   ]
  },
  {
   "cell_type": "code",
   "execution_count": 16,
   "metadata": {},
   "outputs": [
    {
     "data": {
      "text/plain": [
       "(5000, 64, 64, 1)"
      ]
     },
     "execution_count": 16,
     "metadata": {},
     "output_type": "execute_result"
    }
   ],
   "source": [
    "x_test[:,0].shape"
   ]
  },
  {
   "cell_type": "code",
   "execution_count": 17,
   "metadata": {},
   "outputs": [
    {
     "name": "stdout",
     "output_type": "stream",
     "text": [
      "[[0.65345585]\n",
      " [0.7488376 ]\n",
      " [1.8345871 ]\n",
      " ...\n",
      " [1.912823  ]\n",
      " [1.1833409 ]\n",
      " [1.3095316 ]]\n"
     ]
    }
   ],
   "source": [
    "print(pred)"
   ]
  },
  {
   "cell_type": "markdown",
   "metadata": {},
   "source": [
    "### Calculate accuracy (for an arbitrary threshold of the distance set at 0.5)"
   ]
  },
  {
   "cell_type": "code",
   "execution_count": 18,
   "metadata": {},
   "outputs": [],
   "source": [
    "def compute_accuracy(predictions, labels):\n",
    "    print(labels[predictions.ravel() > 0.5])\n",
    "    return labels[predictions.ravel() > 0.5].sum()/len(predictions.ravel())"
   ]
  },
  {
   "cell_type": "code",
   "execution_count": 19,
   "metadata": {},
   "outputs": [
    {
     "name": "stdout",
     "output_type": "stream",
     "text": [
      "[1. 1. 1. ... 1. 1. 1.]\n"
     ]
    },
    {
     "data": {
      "text/plain": [
       "0.973"
      ]
     },
     "execution_count": 19,
     "metadata": {},
     "output_type": "execute_result"
    }
   ],
   "source": [
    "compute_accuracy(pred, y_test)"
   ]
  },
  {
   "cell_type": "markdown",
   "metadata": {},
   "source": [
    "### Calculate pairwise distances for further analysis"
   ]
  },
  {
   "cell_type": "code",
   "execution_count": 20,
   "metadata": {},
   "outputs": [
    {
     "data": {
      "application/vnd.jupyter.widget-view+json": {
       "model_id": "875a8c92c79a4f8c85125bff87c04be8",
       "version_major": 2,
       "version_minor": 0
      },
      "text/plain": [
       "HBox(children=(IntProgress(value=0, max=199), HTML(value='')))"
      ]
     },
     "metadata": {},
     "output_type": "display_data"
    },
    {
     "name": "stdout",
     "output_type": "stream",
     "text": [
      "\n"
     ]
    }
   ],
   "source": [
    "# from localmodules.distance import L2_distance\n",
    "from tqdm import tqdm_notebook\n",
    "import numpy.random as rng\n",
    "\n",
    "distances = [] # distance between pairs\n",
    "identical = [] # 1 if same identity, 0 otherwise\n",
    "\n",
    "num = int(n_samples/2)\n",
    "samples = rng.choice(n_samples,size=num,replace=False)\n",
    "\n",
    "# num = n_samples\n",
    "I = np.zeros((num, num))\n",
    "\n",
    "for i in tqdm_notebook(range(num-1)):\n",
    "    for j in range(i, num):\n",
    "        # Euclidean norm as distance\n",
    "        imgi = np.expand_dims(faces.images[i], axis = 0)\n",
    "        imgi = np.expand_dims(imgi, axis = 3)\n",
    "\n",
    "        imgj = np.expand_dims(faces.images[j], axis = 0)\n",
    "        imgj = np.expand_dims(imgj, axis = 3)\n",
    "\n",
    "        distances.append(model.predict([imgi, imgj])[0][0])\n",
    "        if faces.target[i] == faces.target[j]:\n",
    "            identical.append(True)\n",
    "            I[i,j] =  I[j,i] = 1\n",
    "        else:\n",
    "            identical.append(False)\n",
    "        \n",
    "distances = np.array(distances)\n",
    "# convert to normalized [0,1] score (the higher the better)\n",
    "scores = (distances.max() - distances)/distances.max()\n",
    "identical = np.array(identical)"
   ]
  },
  {
   "cell_type": "markdown",
   "metadata": {},
   "source": [
    "### Compute accuracy and F1 scores for different thresholds\n",
    "\n",
    "From here on, you can apply the same techniques as fot PCA/LBP based face recognition\n"
   ]
  },
  {
   "cell_type": "code",
   "execution_count": 21,
   "metadata": {},
   "outputs": [],
   "source": [
    "from sklearn.metrics import f1_score, accuracy_score\n",
    "\n",
    "def show_metrics(scores, identical, show, title):\n",
    "    # set threshold range\n",
    "    thresholds =  np.arange(0,1,0.03)\n",
    "\n",
    "    f1_scores = []\n",
    "    acc_scores = []\n",
    "    for th in thresholds:\n",
    "        scores_th = np.where(scores > th, 1, 0)\n",
    "        f1_scores.append(f1_score(identical, scores_th))\n",
    "        acc_scores.append(accuracy_score(identical, scores_th))\n",
    "\n",
    "\n",
    "    # Determine optimal Threshold \n",
    "    # ...\n",
    "    opt_tau = thresholds[np.argmax(f1_scores)]\n",
    "    # ...\n",
    "    print(opt_tau)\n",
    "\n",
    "    # Plot F1 score and accuracy as function of distance threshold\n",
    "    if show:\n",
    "        plt.scatter(thresholds, f1_scores, c='b', label='F1 scores')\n",
    "        plt.scatter(thresholds, acc_scores, c='r', label='accuracy scores')\n",
    "        plt.legend()\n",
    "        plt.xlabel('threshold')\n",
    "        plt.xlabel('score')\n",
    "        plt.title(title)\n",
    "        plt.show()\n",
    "    return opt_tau"
   ]
  },
  {
   "cell_type": "code",
   "execution_count": 23,
   "metadata": {},
   "outputs": [
    {
     "name": "stdout",
     "output_type": "stream",
     "text": [
      "0.84\n"
     ]
    },
    {
     "data": {
      "image/png": "[encoded data removed]",
      "text/plain": [
       "<Figure size 432x288 with 1 Axes>"
      ]
     },
     "metadata": {
      "needs_background": "light"
     },
     "output_type": "display_data"
    }
   ],
   "source": [
    "opt_tau = show_metrics(scores, identical, show=True, title='F1 and accuracy scores as a function of distance threshold')"
   ]
  },
  {
   "cell_type": "markdown",
   "metadata": {},
   "source": [
    "### Plot genuine and imposter scores"
   ]
  },
  {
   "cell_type": "code",
   "execution_count": 55,
   "metadata": {},
   "outputs": [],
   "source": [
    "def show_genuine_impostor(scores, identical, opt_tau, name):\n",
    "    gen = scores[np.where(identical==1)]\n",
    "    imp = scores[np.where(identical==0)]\n",
    "    plt.hist(gen, density=False, bins=50, label='genuine')\n",
    "    plt.hist(imp, density=False, alpha=0.5, bins=50, label='impostor')\n",
    "    \n",
    "    plt.xlabel('score', fontsize=16)\n",
    "    plt.ylabel('number', fontsize=16)\n",
    "    plt.axvline(x=opt_tau, color='r', linestyle='--', label='threshold')\n",
    "    plt.legend()\n",
    "    plt.title(name, fontsize=18)\n",
    "    plt.show()\n"
   ]
  },
  {
   "cell_type": "code",
   "execution_count": 56,
   "metadata": {},
   "outputs": [
    {
     "data": {
      "image/png": "[encoded data removed]",
      "text/plain": [
       "<Figure size 432x288 with 1 Axes>"
      ]
     },
     "metadata": {
      "needs_background": "light"
     },
     "output_type": "display_data"
    }
   ],
   "source": [
    "show_genuine_impostor(scores, identical, opt_tau, 'genuine and impostor scores')"
   ]
  },
  {
   "cell_type": "code",
   "execution_count": 61,
   "metadata": {},
   "outputs": [],
   "source": [
    "from sklearn.metrics import roc_curve\n",
    "from sklearn.metrics import auc\n",
    "from scipy.optimize import brentq\n",
    "from scipy.interpolate import interp1d\n",
    "\n",
    "def show_roc(scores_arr, identical_arr, names):\n",
    "    EER_arr = []\n",
    "    plt.title('Receiver Operating Characteristic', fontsize=18)\n",
    "    \n",
    "    plt.plot([0, 1], [1, 0],'r--')\n",
    "    plt.plot([0, 1], [0, 1],'k-')\n",
    "    plt.xlim([0, 1])\n",
    "    plt.ylim([0, 1])\n",
    "    plt.ylabel('True Positive Rate', fontsize=18)\n",
    "    plt.xlabel('False Positive Rate', fontsize=18)\n",
    "    colors = ['b','g','r']\n",
    "    for i in range(len(scores_arr)):\n",
    "        fpr, tpr, threshold = roc_curve(identical_arr[i], scores_arr[i])\n",
    "        roc_auc = auc(fpr, tpr)\n",
    "        plt.plot(fpr, tpr, colors[i], linewidth=3, label = '%s AUC = %0.3f' % (names[i],roc_auc))\n",
    "        fnr = 1 - tpr\n",
    "\n",
    "        eer_threshold = threshold[np.nanargmin(np.absolute((fnr - fpr)))]\n",
    "        EER = fpr[np.nanargmin(np.absolute((fnr - fpr)))]\n",
    "        EER2 = fnr[np.nanargmin(np.absolute((fnr - fpr)))]\n",
    "        print(\"%s Equal error rate: %.3f\" % (names[i], EER))\n",
    "        EER_arr.append(EER)\n",
    "    plt.legend(loc = 'lower right')\n",
    "    plt.show()\n",
    "\n",
    "    \n",
    "    return EER_arr"
   ]
  },
  {
   "cell_type": "code",
   "execution_count": 62,
   "metadata": {},
   "outputs": [
    {
     "name": "stdout",
     "output_type": "stream",
     "text": [
      "ROC curve Equal error rate: 0.123\n"
     ]
    },
    {
     "data": {
      "image/png": "[encoded data removed]",
      "text/plain": [
       "<Figure size 432x288 with 1 Axes>"
      ]
     },
     "metadata": {
      "needs_background": "light"
     },
     "output_type": "display_data"
    }
   ],
   "source": [
    "[EER] = show_roc([scores],[identical], ['ROC curve'])"
   ]
  },
  {
   "cell_type": "markdown",
   "metadata": {},
   "source": [
    "#### Caluclate classification scores\n",
    "* plot precision-recall curve\n",
    "* calculate AUC\n",
    "* average precision\n",
    "* others?"
   ]
  },
  {
   "cell_type": "code",
   "execution_count": 48,
   "metadata": {},
   "outputs": [],
   "source": [
    "from sklearn.metrics import precision_recall_curve\n",
    "from sklearn.metrics import f1_score\n",
    "from sklearn.metrics import auc\n",
    "from sklearn.metrics import average_precision_score\n",
    "\n",
    "\n",
    "def show_precision_recall(scores_arr, identical_arr, opt_tau_arr):\n",
    "    colors = ['b','g','r']\n",
    "    for i in range(len(scores_arr)):\n",
    "        precision, recall, thresholds = precision_recall_curve(identical_arr[i], scores_arr[i])\n",
    "        scores_th = np.where(scores_arr[i] > opt_tau_arr[i], 1, 0)\n",
    "        f1 = f1_score(identical_arr[i], scores_th)\n",
    "\n",
    "        auc_ = auc(recall, precision)\n",
    "\n",
    "        ap = average_precision_score(identical_arr[i], scores_arr[i])\n",
    "        print(' f1=%.3f auc=%.3f ap=%.3f' % ( f1, auc_, ap))\n",
    "        plt.plot(recall, precision, colors[i], marker='.',linewidth=1, label = 'AUC = %0.3f' % ( auc_))\n",
    "   \n",
    "    plt.plot([0, 1], [0.5, 0.5], 'k--') \n",
    "    plt.xlabel('recall', fontsize= 18)\n",
    "    plt.ylabel('precision', fontsize= 18)\n",
    "    plt.show()"
   ]
  },
  {
   "cell_type": "code",
   "execution_count": 49,
   "metadata": {},
   "outputs": [
    {
     "name": "stdout",
     "output_type": "stream",
     "text": [
      " f1=0.643 auc=0.721 ap=0.721\n"
     ]
    },
    {
     "data": {
      "image/png": "[encoded data removed]",
      "text/plain": [
       "<Figure size 432x288 with 1 Axes>"
      ]
     },
     "metadata": {
      "needs_background": "light"
     },
     "output_type": "display_data"
    }
   ],
   "source": [
    "show_precision_recall([scores],[identical],[opt_tau])"
   ]
  }
 ],
 "metadata": {
  "kernelspec": {
   "display_name": "Python 3",
   "language": "python",
   "name": "python3"
  },
  "language_info": {
   "codemirror_mode": {
    "name": "ipython",
    "version": 3
   },
   "file_extension": ".py",
   "mimetype": "text/x-python",
   "name": "python",
   "nbconvert_exporter": "python",
   "pygments_lexer": "ipython3",
   "version": "3.6.8"
  }
 },
 "nbformat": 4,
 "nbformat_minor": 2
}
